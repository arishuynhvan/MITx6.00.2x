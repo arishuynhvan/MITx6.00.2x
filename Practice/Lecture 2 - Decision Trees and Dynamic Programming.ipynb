{
 "cells": [
  {
   "cell_type": "markdown",
   "metadata": {},
   "source": [
    "# Decision Tree Implementation\n",
    "\n",
    "## Brute Force Algorithms"
   ]
  },
  {
   "cell_type": "code",
   "execution_count": null,
   "metadata": {},
   "outputs": [],
   "source": []
  },
  {
   "cell_type": "markdown",
   "metadata": {},
   "source": [
    "## Generators\n",
    "\n",
    "A special feature of Python. Here's a [lecture from 6.00.1x on generators](https://www.youtube.com/watch?v=BLWn90kEYMk).\n",
    "\n",
    "## Bitwise operators\n",
    "\n",
    "\n",
    "## Exercise 1\n",
    "\n",
    "Power set generator draws all possible combinations to put n items into one bag is $2^n$. As above, suppose we have a generator that returns every combination of objects in one bag. We can represent this as a[ list of 1s and 0s](https://us.edstem.org/courses/312/discussion/22252) denoting whether each item is in the bag or not."
   ]
  },
  {
   "cell_type": "code",
   "execution_count": null,
   "metadata": {},
   "outputs": [],
   "source": [
    "# generate all combinations of N items\n",
    "def powerSet(items):\n",
    "    N = len(items)\n",
    "    # enumerate the 2**N possible combinations\n",
    "    for i in range(2**N):\n",
    "        combo = []\n",
    "        for j in range(N):\n",
    "            # test bit jth of integer i\n",
    "            if (i >> j) % 2 == 1:\n",
    "                combo.append(items[j])\n",
    "        yield combo"
   ]
  },
  {
   "cell_type": "markdown",
   "metadata": {},
   "source": [
    "Write a generator that returns every arrangement of items such that each is in one or none of two different bags. Each combination should be given as a tuple of two lists, the first being the items in bag1, and the second being the items in bag2.\n",
    "\n",
    "Note this generator should be pretty similar to the powerSet generator above.\n",
    "\n",
    "We mentioned that the number of possible combinations for N items into one bag is  2n . How many possible combinations exist when there are two bags? Think about this for a few minutes, then click the following hint to confirm if your guess is correct. Remember that a given item can only be in bag1, bag2, or neither bag -- it is not possible for an item to be present in both bags!\n",
    "\n",
    "**How many possible combinations exist for N items into two bags?**"
   ]
  },
  {
   "cell_type": "code",
   "execution_count": null,
   "metadata": {},
   "outputs": [],
   "source": [
    "# Functions referenced in the grader\n",
    "\n",
    "class Item(object):\n",
    "    def __init__(self, n, v, w):\n",
    "        self.name = n\n",
    "        self.value = float(v)\n",
    "        self.weight = float(w)\n",
    "    def getName(self):\n",
    "        return self.name\n",
    "    def getValue(self):\n",
    "        return self.value\n",
    "    def getWeight(self):\n",
    "        return self.weight\n",
    "    def __str__(self):\n",
    "        return '<' + self.name + ', ' + str(self.value) + ', '\\\n",
    "                     + str(self.weight) + '>'\n",
    "\n",
    "def buildItems():\n",
    "    return [Item(n,v,w) for n,v,w in (('clock', 175, 10),\n",
    "                                      ('painting', 90, 9),\n",
    "                                      ('radio', 20, 4),\n",
    "                                      ('vase', 50, 2),\n",
    "                                      ('book', 10, 1),\n",
    "                                      ('computer', 200, 20))]\n",
    "\n",
    "def buildRandomItems(n):\n",
    "    return [Item(str(i),10*random.randint(1,10),random.randint(1,10))\n",
    "            for i in range(n)]"
   ]
  },
  {
   "cell_type": "code",
   "execution_count": null,
   "metadata": {},
   "outputs": [],
   "source": [
    "def yieldAllCombos(items):\n",
    "    \"\"\"\n",
    "        Generates all combinations of N items into two bags, whereby each \n",
    "        item is in one or zero bags.\n",
    "\n",
    "        Yields a tuple, (bag1, bag2), where each bag is represented as a list \n",
    "        of which item(s) are in each bag.\n",
    "    \"\"\"\n",
    "    # Your code here\n",
    "    N = len(items)\n",
    "    # enumerate the 2**N possible combinations\n",
    "    for i in range(4**N):\n",
    "        bag1 =[]\n",
    "        bag2 =[]\n",
    "        for j in range(N):\n",
    "            # test bit jth of integer i\n",
    "            if (i >> 2*j) % 4 == 1: \n",
    "                bag1.append(items[j])\n",
    "            elif (i >> 2*j) % 4 == 2: \n",
    "                bag2.append(items[j])\n",
    "        yield(bag1,bag2)"
   ]
  }
 ],
 "metadata": {
  "kernelspec": {
   "display_name": "MITx6002xPractice",
   "language": "python",
   "name": "mitx6002xpractice"
  },
  "language_info": {
   "codemirror_mode": {
    "name": "ipython",
    "version": 3
   },
   "file_extension": ".py",
   "mimetype": "text/x-python",
   "name": "python",
   "nbconvert_exporter": "python",
   "pygments_lexer": "ipython3",
   "version": "3.5.5"
  }
 },
 "nbformat": 4,
 "nbformat_minor": 2
}
