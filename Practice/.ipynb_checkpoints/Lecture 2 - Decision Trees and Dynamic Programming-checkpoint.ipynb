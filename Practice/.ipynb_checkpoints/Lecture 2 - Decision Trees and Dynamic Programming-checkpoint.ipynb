{
 "cells": [
  {
   "cell_type": "markdown",
   "metadata": {},
   "source": [
    "# Decision Tree Implementations\n",
    "\n",
    "## To-dos\n",
    "\n",
    "- [ ] Watch all video lectures\n",
    "- [x] Finish all MCQs\n",
    "- [ ]\n",
    "\n",
    "\n",
    "## Brute Force Algorithms\n",
    "\n",
    "### Solution to Knapsack problem\n",
    "\n",
    "*Search tree or decision tree*\n",
    "\n",
    "Depending on the number of leaves r coming from each node, we'll have the total number of leaves = $\\sum^n_{i=0}r^i$, where n is the number of items to be searched. => O($2^{(n+1)}$)"
   ]
  },
  {
   "cell_type": "code",
   "execution_count": 256,
   "metadata": {},
   "outputs": [],
   "source": [
    "# Library importation should be kept in a separate cell\n",
    "# to avoid reimporting it every cell run\n",
    "import random "
   ]
  },
  {
   "cell_type": "code",
   "execution_count": 252,
   "metadata": {},
   "outputs": [],
   "source": [
    "class Food(object):\n",
    "    def __init__(self, n, v, w):\n",
    "        self.name = n\n",
    "        self.value = v\n",
    "        self.calories = w\n",
    "    def getValue(self):\n",
    "        return self.value\n",
    "    def getCost(self):\n",
    "        return self.calories\n",
    "    def density(self):\n",
    "        return self.getValue()/self.getCost()\n",
    "    def __str__(self):\n",
    "        return self.name + ': <' + str(self.value)\\\n",
    "                 + ', ' + str(self.calories) + '>'\n",
    "\n",
    "def buildMenu(names, values, calories):\n",
    "    menu = []\n",
    "    for i in range(len(values)):\n",
    "        menu.append(Food(names[i], values[i],\n",
    "                          calories[i]))\n",
    "    return menu\n",
    "\n",
    "def greedy(items, maxCost, keyFunction):\n",
    "    \"\"\"Assumes items a list, maxCost >= 0,\n",
    "         keyFunction maps elements of Items to numbers\"\"\"\n",
    "    itemsCopy = sorted(items, key = keyFunction,\n",
    "                       reverse = True)\n",
    "    result = []\n",
    "    totalValue, totalCost = 0.0, 0.0\n",
    "    for i in range(len(itemsCopy)):\n",
    "        if (totalCost+itemsCopy[i].getCost()) <= maxCost:\n",
    "            result.append(itemsCopy[i])\n",
    "            totalCost += itemsCopy[i].getCost()\n",
    "            totalValue += itemsCopy[i].getValue()\n",
    "    return (result, totalValue)"
   ]
  },
  {
   "cell_type": "code",
   "execution_count": 4,
   "metadata": {},
   "outputs": [],
   "source": [
    "def maxVal(toConsider, avail):\n",
    "    \"\"\"Assumes toConsider a list of items, avail a weight\n",
    "    Returns a tuples of the total value of a solution to the 0/1 knapsack\n",
    "    problem and the items of that solution\"\"\"\n",
    "    if toConsider == [] or avail == 0:\n",
    "        result = (0, ())\n",
    "    elif toConsider[0].getCost() > avail:\n",
    "        # Explore right branch only\n",
    "        result = maxVal(toConsider[1:], avail)\n",
    "    else:\n",
    "        nextItem = toConsider[0]\n",
    "        # Explore left branch\n",
    "        withVal, withToTake = maxVal(toConsider[1:], avail - nextItem.getCost())\n",
    "        withVal += nextItem.getValue()\n",
    "        # Explore right branch\n",
    "        withoutVal, withoutToTake = maxVal(toConsider[1:], avail)\n",
    "        # Explore better branch\n",
    "        if withVal > withoutVal:\n",
    "            result = (withVal, withToTake + (nextItem,))\n",
    "        else:\n",
    "            result = (withoutVal, withoutToTake)\n",
    "    return result"
   ]
  },
  {
   "cell_type": "code",
   "execution_count": 10,
   "metadata": {},
   "outputs": [
    {
     "name": "stdout",
     "output_type": "stream",
     "text": [
      "Use greedy by value to allocate 750 calories\n",
      "Total value of items taken = 284.0\n",
      "    burger: <100, 354>\n",
      "    pizza: <95, 258>\n",
      "    wine: <89, 123>\n",
      "\n",
      "Use greedy by cost to allocate 750 calories\n",
      "Total value of items taken = 318.0\n",
      "    apple: <50, 95>\n",
      "    wine: <89, 123>\n",
      "    cola: <79, 150>\n",
      "    beer: <90, 154>\n",
      "    donut: <10, 195>\n",
      "\n",
      "Use greedy by density to allocate 750 calories\n",
      "Total value of items taken = 318.0\n",
      "    wine: <89, 123>\n",
      "    beer: <90, 154>\n",
      "    cola: <79, 150>\n",
      "    apple: <50, 95>\n",
      "    donut: <10, 195>\n",
      "\n",
      "Use search tree to allocate 750 calories from  8  items\n",
      "Total value of items taken = 353\n",
      "    cola: <79, 150>\n",
      "    pizza: <95, 258>\n",
      "    beer: <90, 154>\n",
      "    wine: <89, 123>\n"
     ]
    }
   ],
   "source": [
    "def testGreedy(items, constraint, keyFunction):\n",
    "    taken, val = greedy(items, constraint, keyFunction)\n",
    "    print('Total value of items taken =', val)\n",
    "    for item in taken:\n",
    "        print('   ', item)\n",
    "\n",
    "def testGreedys(foods, maxUnits):\n",
    "    print('Use greedy by value to allocate', maxUnits,\n",
    "          'calories')\n",
    "    testGreedy(foods, maxUnits, Food.getValue)\n",
    "    print('\\nUse greedy by cost to allocate', maxUnits,\n",
    "          'calories')\n",
    "    testGreedy(foods, maxUnits,\n",
    "               lambda x: 1/Food.getCost(x))\n",
    "    print('\\nUse greedy by density to allocate', maxUnits,\n",
    "          'calories')\n",
    "    testGreedy(foods, maxUnits, Food.density)\n",
    "\n",
    "\n",
    "\n",
    "def testMaxVal(foods, maxUnits, printItems = True):\n",
    "    print('Use search tree to allocate', maxUnits,\n",
    "          'calories from ',len(foods), ' items')\n",
    "    val, taken = maxVal(foods, maxUnits)\n",
    "    print('Total value of items taken =', val)\n",
    "    if printItems:\n",
    "        for item in taken:\n",
    "            print('   ', item)\n",
    "\n",
    "names = ['wine', 'beer', 'pizza', 'burger', 'fries',\n",
    "         'cola', 'apple', 'donut', 'cake']\n",
    "values = [89,90,95,100,90,79,50,10]\n",
    "calories = [123,154,258,354,365,150,95,195]\n",
    "foods = buildMenu(names, values, calories)\n",
    "\n",
    "testGreedys(foods, 750)\n",
    "print('')\n",
    "testMaxVal(foods, 750)"
   ]
  },
  {
   "cell_type": "code",
   "execution_count": 254,
   "metadata": {
    "scrolled": true
   },
   "outputs": [],
   "source": [
    "def buildLargeMenu(numItems, maxVal, maxCost):\n",
    "    items = []\n",
    "    for i in range(numItems):\n",
    "        items.append(Food(str(i),\n",
    "                         random.randint(1,maxVal),\n",
    "                         random.randint(1, maxCost)))\n",
    "    return items"
   ]
  },
  {
   "cell_type": "code",
   "execution_count": null,
   "metadata": {},
   "outputs": [],
   "source": [
    "for numItems in (5,10,15,20,25,30,35,40,45):\n",
    "    items = buildLargeMenu(numItems, 90,250)\n",
    "    testMaxVal(items, 750, False)"
   ]
  },
  {
   "cell_type": "markdown",
   "metadata": {},
   "source": [
    "### Optimized Greedy Solution - The correct answer"
   ]
  },
  {
   "cell_type": "code",
   "execution_count": 5,
   "metadata": {},
   "outputs": [],
   "source": [
    "def maxVal(toConsider, avail):\n",
    "#Assumes toConsider a list of items, avail a weight\n",
    "#Returns a tuples of the total value of a solution to the 0/1 knapsack\n",
    "#problem and the items of that solution\n",
    "    if toConsider == [] or avail == 0:\n",
    "        result = (0, ())\n",
    "    elif toConsider[0].getCost() > avail:\n",
    "        # Explore right branch only\n",
    "        result = maxVal(toConsider[1:], avail)\n",
    "    else:\n",
    "        nextItem = toConsider[0]\n",
    "        # Explore left branch\n",
    "        withVal, withToTake = maxVal(toConsider[1:], avail - nextItem.getCost())\n",
    "        withVal += nextItem.getValue()\n",
    "        # Explore right branch\n",
    "        withoutVal, withoutToTake = maxVal(toConsider[1:], avail)\n",
    "\n",
    "    # Explore better branch\n",
    "    if withVal > withoutVal:\n",
    "        result = (withVal, withToTake + (nextItem,))\n",
    "    else:\n",
    "         result = (withoutVal, withoutToTake)\n",
    "    return result"
   ]
  },
  {
   "cell_type": "markdown",
   "metadata": {},
   "source": [
    "**Which part of the code allow us to skip the branch that has a lower total value?**\n",
    "\n",
    "It's the ```#explore better branch``` part since only 1 branch would be concatenated to the result\n",
    "\n",
    "\n",
    "## Generators\n",
    "\n",
    "A special feature of Python. Here's a [lecture from 6.00.1x on generators](https://www.youtube.com/watch?v=BLWn90kEYMk).\n",
    "\n",
    "1. Iterate until yield -> suspend and return a value\n",
    "2. genText() -> <generator object genTest at 0x201b 878>\n",
    "3. returning from a generator raises a StopIteration exception, so normally it's coded as an infinite loop\n",
    "4. Separates the concept of computing (often a very long sequence of objects), from the actual process of computing them explicitly\n",
    "5. Generate a new object as needed as part of a distinct computation (without recomputing a whole long sequence)\n",
    "\n",
    "**Limitation**\n",
    "\n",
    "It's only useful if one wants to see all the results of the computation in defined steps of a sequence, but if the generator is required to display an item with a large index, loops will still be required to bypass the disruptions set up by yield before reaching the target index\n",
    "\n",
    "NOT RECOMMENDED but good to know!\n",
    "\n",
    "**Examples**"
   ]
  },
  {
   "cell_type": "code",
   "execution_count": 54,
   "metadata": {},
   "outputs": [],
   "source": [
    "def fib():\n",
    "    fibn_1 = 1 #fib(n-1)\n",
    "    fibn_2 = 0 #fib(n-2)\n",
    "    while True:\n",
    "        # fib(n) = fib(n-1) + fib(n-2)\n",
    "        next = fibn_1 + fibn_2\n",
    "        yield next\n",
    "        fibn_2 = fibn_1\n",
    "        fibn_1 = next\n",
    "\n",
    "# Set up a variable that calls fib() only once\n",
    "a = fib()"
   ]
  },
  {
   "cell_type": "code",
   "execution_count": 66,
   "metadata": {},
   "outputs": [
    {
     "data": {
      "text/plain": [
       "233"
      ]
     },
     "execution_count": 66,
     "metadata": {},
     "output_type": "execute_result"
    }
   ],
   "source": [
    "# Call to produce a fibonacci number in sequence\n",
    "a.__next__()"
   ]
  },
  {
   "cell_type": "code",
   "execution_count": 70,
   "metadata": {},
   "outputs": [
    {
     "data": {
      "text/plain": [
       "1"
      ]
     },
     "execution_count": 70,
     "metadata": {},
     "output_type": "execute_result"
    }
   ],
   "source": [
    "# Take note to not call fib() every time you want a new fibonacci number,e.g.\n",
    "fib().__next__()\n",
    "\n",
    "# or below in the same cell\n",
    "a = fib()\n",
    "a.__next__()\n",
    "\n",
    "# Both of these calls will produce only the 1st fibonacci number since every execution is a new fib() call"
   ]
  },
  {
   "cell_type": "markdown",
   "metadata": {},
   "source": [
    "## Bitwise operators\n",
    "\n",
    "### Two's complement binary\n",
    "\n",
    "Reserve \"1xxx xxxx\" for writing negative numbers in 8 bits., while \"0xxx xxxx\" is for positive integers from 0 to 127\n",
    "\n",
    "-x is written using the bit pattern for x-1 with all the bits complemented (switched from 1 to 0 or 0 to 1)\n",
    "\n",
    "**Examples**\n",
    "\n",
    "-1 is complement (1-1) \n",
    "\n",
    "= complement (0) = complement (0000 0000) \n",
    "\n",
    "= 1111 1111\n",
    "\n",
    "\n",
    "\n",
    "-10 is complement (10-1) \n",
    "\n",
    "= complement (9) \n",
    "\n",
    "= complement (0000 1001) \n",
    "\n",
    "= 1111 0110\n",
    "\n",
    "Hence, negative numbers for 8 bits are from -1 to -128\n",
    "\n",
    "PYTHON USES AN INFINITE NUMBER OF BITS\n",
    "\n",
    "**x << y**\n",
    "\n",
    "Returns x with the bits shifted to the left by y places (and new bits on the right-hand-side are zeros). This is the same as multiplying x by 2**y.\n",
    "\n",
    "**x >> y**\n",
    "\n",
    "Returns x with the bits shifted to the right by y places. This is the same as dividing x by $2^y$.\n",
    "\n",
    "**x & y**\n",
    "\n",
    "Does a \"bitwise and\". Each bit of the output is 1 if the corresponding bit of x AND of y is 1, otherwise it's 0.\n",
    "\n",
    "**x | y**\n",
    "\n",
    "Does a \"bitwise or\". Each bit of the output is 0 if the corresponding bit of x AND of y is 0, otherwise it's 1.\n",
    "\n",
    "**~ x**\n",
    "\n",
    "Returns the complement of x - the number you get by switching each 1 for a 0 and each 0 for a 1. This is the same as -x - 1.\n",
    "\n",
    "**x ^ y**\n",
    "\n",
    "Does a \"bitwise exclusive or\". Each bit of the output is the same as the corresponding bit in x if that bit in y is 0, and it's the complement of the bit in x if that bit in y is 1.\n",
    "\n",
    "This can also be understood as returning 1 if the corresponding bits in x and y are different, 0 otherwise.\n",
    "\n",
    "## Exercise 1\n",
    "\n",
    "### Intro\n",
    "Power set generator draws all possible combinations to put n items into one bag is $2^n$. As above, suppose we have a generator that returns every combination of objects in one bag. We can represent this as a[ list of 1s and 0s](https://us.edstem.org/courses/312/discussion/22252) denoting whether each item is in the bag or not."
   ]
  },
  {
   "cell_type": "code",
   "execution_count": null,
   "metadata": {},
   "outputs": [],
   "source": [
    "# generate all combinations of N items\n",
    "def powerSet(items):\n",
    "    N = len(items)\n",
    "    # enumerate the 2**N possible combinations\n",
    "    for i in range(2**N):\n",
    "        combo = []\n",
    "        for j in range(N):\n",
    "            # test bit jth of integer i\n",
    "            if (i >> j) % 2 == 1:\n",
    "                combo.append(items[j])\n",
    "        yield combo"
   ]
  },
  {
   "cell_type": "markdown",
   "metadata": {},
   "source": [
    "### Notes\n",
    "\n",
    "This algorithm returns the combination of N items into 1 bag by appending the jth item to the list whenever the ith combination satisfies $\\frac{i}{2^j}$ is an odd number (**need proof for this**)\n",
    "\n",
    "### Task\n",
    "Write a generator that returns every arrangement of items such that each is in one or none of two different bags. Each combination should be given as a tuple of two lists, the first being the items in bag1, and the second being the items in bag2.\n",
    "\n",
    "Note this generator should be pretty similar to the powerSet generator above.\n",
    "\n",
    "We mentioned that the number of possible combinations for N items into one bag is  2n . How many possible combinations exist when there are two bags? Think about this for a few minutes, then click the following hint to confirm if your guess is correct. Remember that a given item can only be in bag1, bag2, or neither bag -- it is not possible for an item to be present in both bags!\n",
    "\n",
    "**How many possible combinations exist for N items into two bags?**"
   ]
  },
  {
   "cell_type": "code",
   "execution_count": null,
   "metadata": {},
   "outputs": [],
   "source": [
    "# Functions referenced in the grader\n",
    "\n",
    "class Item(object):\n",
    "    def __init__(self, n, v, w):\n",
    "        self.name = n\n",
    "        self.value = float(v)\n",
    "        self.weight = float(w)\n",
    "    def getName(self):\n",
    "        return self.name\n",
    "    def getValue(self):\n",
    "        return self.value\n",
    "    def getWeight(self):\n",
    "        return self.weight\n",
    "    def __str__(self):\n",
    "        return '<' + self.name + ', ' + str(self.value) + ', '\\\n",
    "                     + str(self.weight) + '>'\n",
    "\n",
    "def buildItems():\n",
    "    return [Item(n,v,w) for n,v,w in (('clock', 175, 10),\n",
    "                                      ('painting', 90, 9),\n",
    "                                      ('radio', 20, 4),\n",
    "                                      ('vase', 50, 2),\n",
    "                                      ('book', 10, 1),\n",
    "                                      ('computer', 200, 20))]\n",
    "\n",
    "def buildRandomItems(n):\n",
    "    return [Item(str(i),10*random.randint(1,10),random.randint(1,10))\n",
    "            for i in range(n)]"
   ]
  },
  {
   "cell_type": "markdown",
   "metadata": {},
   "source": [
    "### A flimsy solution\n",
    "\n",
    "#### Pseudo-code\n",
    "\n",
    "Not full logic but only key points to notice: \n",
    "\n",
    "For every pair of (2) bits, if the least bit = 1-> bag 1, if the largest bit = 1 -> bag 2\n",
    "\n",
    "No item can be in both bags at the same time => if the pair ==11 -> invalid\n",
    "\n",
    "#### Bit-wise analysis\n",
    "\n",
    "For a list of 2 items [A,B]\n",
    "\n",
    "j |Item|B|A|Bag1|Bag2|Not Valid\n",
    "---|---|---|---|---|---|:---:\n",
    "0 | |00|00|-|-|\n",
    "1| |00|01|A|-|\n",
    "2| |00|10|-|A|\n",
    "3| |00|11|A|A|x\n",
    "4| |01|00|B|-|\n",
    "5| |01|01|AB|-|\n",
    "6| |01|10|B|A|\n",
    "7| |01|11|AB|A|x\n",
    "8| |10|00|-|B|\n",
    "9| |10|01|A|B|\n",
    "10| |10|10|-|AB|\n",
    "11| |10|11|A|AB|x\n",
    "12| |11|00|B|B|x\n",
    "13| |11|01|AB|B|x\n",
    "14| |11|10|B|AB|x\n",
    "15| |11|11|AB|AB|x\n",
    "\n",
    "### Big-O Analysis\n",
    "This has too many repeated combinations -> **FIND AN OPTIMAL SOLUTION TO NOT REPEAT ANY COMBINATIONS**\n",
    "\n",
    "**Big-O analysis of performance**: O($N^{4^N}$), but fortunately every step of computation is interrupted by ```yield``` => O(N)\n"
   ]
  },
  {
   "cell_type": "code",
   "execution_count": 219,
   "metadata": {},
   "outputs": [],
   "source": [
    "def yieldAllCombos(items):\n",
    "    \"\"\"\n",
    "        Generates all combinations of N items into two bags, whereby each \n",
    "        item is in one or zero bags.\n",
    "\n",
    "        Yields a tuple, (bag1, bag2), where each bag is represented as a list \n",
    "        of which item(s) are in each bag.\n",
    "    \"\"\"\n",
    "    # Your code here\n",
    "    N = len(items)\n",
    "    # enumerate the 4**N possible combinations\n",
    "    for i in range(4**N):\n",
    "        bag1 =[]\n",
    "        bag2 =[]\n",
    "        for j in range(N):\n",
    "            # test bit jth of integer i\n",
    "            if (i >> (2*j)) % 2 == 1: \n",
    "                bag1.append(items[j])\n",
    "            elif (i >> (2*j+1)) % 2 == 1: \n",
    "                bag2.append(items[j])\n",
    "        yield(bag1,bag2)\n",
    "        \n",
    "a=yieldAllCombos([1,2])"
   ]
  },
  {
   "cell_type": "code",
   "execution_count": 218,
   "metadata": {
    "scrolled": true
   },
   "outputs": [
    {
     "name": "stdout",
     "output_type": "stream",
     "text": [
      "([], [])\n",
      "([1], [])\n",
      "([], [1])\n",
      "([1], [])\n",
      "([2], [])\n",
      "([1, 2], [])\n",
      "([2], [1])\n",
      "([1, 2], [])\n",
      "([], [2])\n",
      "([1], [2])\n",
      "([], [1, 2])\n",
      "([1], [2])\n",
      "([2], [])\n",
      "([1, 2], [])\n",
      "([2], [1])\n",
      "([1, 2], [])\n"
     ]
    }
   ],
   "source": [
    "for i in range(4**2):\n",
    "    print(a.__next__())"
   ]
  },
  {
   "cell_type": "markdown",
   "metadata": {},
   "source": [
    "### An improved solution\n",
    "\n",
    "Eliminate all cases where a pair of bits == 11\n",
    "\n",
    "#### Big-O Analysis\n",
    "\n",
    "O($4^N$) without generator due to the for loop to find skipable cases"
   ]
  },
  {
   "cell_type": "code",
   "execution_count": 249,
   "metadata": {},
   "outputs": [],
   "source": [
    "def yieldAllCombosv2(items):\n",
    "    \"\"\"\n",
    "        Generates all combinations of N items into two bags, whereby each \n",
    "        item is in one or zero bags.\n",
    "\n",
    "        Yields a tuple, (bag1, bag2), where each bag is represented as a list \n",
    "        of which item(s) are in each bag.\n",
    "    \"\"\"\n",
    "    # Your code here\n",
    "    N = len(items)\n",
    "    skipcases=[]\n",
    "    for i in range(4**N):\n",
    "        for j in range(N):\n",
    "            if ((i >> 2*j)%4 == 3):\n",
    "                skipcases.append(i)\n",
    "    print(skipcases)\n",
    "    # enumerate the 4**N possible combinations\n",
    "    for i in range(4**N):\n",
    "        if i in skipcases:\n",
    "            continue\n",
    "        print(i)\n",
    "        bag1 =[]\n",
    "        bag2 =[]\n",
    "        for j in range(N):                \n",
    "            # test bit jth of integer i\n",
    "            if (i >> 2*j) % 2 == 1: \n",
    "                bag1.append(items[j])\n",
    "            elif (i >> (2*j+1)) % 2 == 1: \n",
    "                bag2.append(items[j])\n",
    "        yield(bag1,bag2)\n",
    "\n",
    "# Initialize the generator        \n",
    "b=yieldAllCombosv2([1,2])"
   ]
  },
  {
   "cell_type": "code",
   "execution_count": 250,
   "metadata": {
    "scrolled": true
   },
   "outputs": [
    {
     "name": "stdout",
     "output_type": "stream",
     "text": [
      "[3, 7, 11, 12, 13, 14, 15, 15]\n",
      "0\n",
      "([], [])\n",
      "1\n",
      "([1], [])\n",
      "2\n",
      "([], [1])\n",
      "4\n",
      "([2], [])\n",
      "5\n",
      "([1, 2], [])\n",
      "6\n",
      "([2], [1])\n",
      "8\n",
      "([], [2])\n",
      "9\n",
      "([1], [2])\n",
      "10\n",
      "([], [1, 2])\n"
     ]
    }
   ],
   "source": [
    "for i in range(3**2):\n",
    "    print(b.__next__())"
   ]
  },
  {
   "cell_type": "markdown",
   "metadata": {},
   "source": [
    "# Recursive Fibonacci\n",
    "\n",
    "## Dynamic Programming\n",
    "\n",
    "A deceptive name - coined by Richard Bellman- in order to hide that he was doing mathematics\n",
    "\n",
    "### Memoization\n",
    "\n",
    "1. Trade time for space\n",
    "    * E.g., fib(120) could take 250 000 years to finish given 1 recursive call takes 1ns\n",
    "2. Create a table to record what was done:\n",
    "    * Before computing something, check if its value was already stored in the table\n",
    "     1. If so, look it up\n",
    "     2. If not, compute and add it to the table\n",
    "     \n",
    "#### Using a memo to compute Fibonacci"
   ]
  },
  {
   "cell_type": "code",
   "execution_count": 2,
   "metadata": {},
   "outputs": [],
   "source": [
    "def fastFib(n, memo = {}):\n",
    "    \"\"\"Assumes n is an int >=1, memo used only by recursive calls\n",
    "       Returns Fibonacci of n\"\"\"\n",
    "    if n==0 or n==1:\n",
    "        return 1\n",
    "    try:\n",
    "        return memo[n]\n",
    "    except KeyError:\n",
    "        result = fastFib(n-1, memo)+ fastFib(n-2,memo)\n",
    "        memo[n] = result\n",
    "        return result"
   ]
  },
  {
   "cell_type": "code",
   "execution_count": 3,
   "metadata": {},
   "outputs": [
    {
     "data": {
      "text/plain": [
       "8670007398507948658051921"
      ]
     },
     "execution_count": 3,
     "metadata": {},
     "output_type": "execute_result"
    }
   ],
   "source": [
    "fastFib(120)"
   ]
  },
  {
   "cell_type": "markdown",
   "metadata": {},
   "source": [
    "### When does dynamic programming work?\n",
    "\n",
    "**Optimal substructure**: a globally optimal solution can be found by combining optimal solutions to local subproblems\n",
    "    * Fox x>1, fib(x) = fib(x-1) + fib(x-2)\n",
    "\n",
    "**Overlapping subproblems**: finding an optimal solution involves solving the same problem multiple times\n",
    "    * Compute fib(x) for many times\n",
    "    \n",
    "### Dynamic Programming vs Knapsack Problem\n",
    "\n",
    "For a general knapsack problem:\n",
    "\n",
    "**Optimal substructure** -> Yes (1 node -> 2 branches = fixed structure)\n",
    "\n",
    "**Overlapping subproblems** -> NO! each node solves a different problem since no 2 nodes have the same content\n",
    "=> dynamic programming is possible but NO SPEEDUP!\n",
    "\n",
    "For a knapsack that contains items with discreet properties, e.g. weights, calories, dimensions, etc., which can be used to limit the the items that can fit into the knapsack \n",
    "\n",
    "=> **overlapping subproblems**: given the remaining weight, maximize value by choosing among remaining items\n",
    "\n",
    "(Set of previously chosen items, or even value of that set, doesn't matter!)\n",
    "\n",
    "#### Example\n",
    "\n",
    "For the 2 highlighted nodes, ```[c,d]``` are left and the weight left is ```2``` =>  they are overlapping subproblems. To maximize the number of subproblems, represent items left to be considered by ```len(toConsider)```\n",
    "\n",
    "\n",
    "![Knapsack overlapping problems](../img/knapsack-overlappingproblems.png)\n",
    "\n",
    "Since the items will always be removed from the front of the list, ```len(toConsider)``` can let us know what specific items are left\n",
    "\n",
    "The key of memo is a tuple of (items left to be considered, available weight)\n",
    "\n",
    "First, find the optimal choice of items given the available weight is already in the memo\n",
    "\n",
    "Last, update the memo\n"
   ]
  },
  {
   "cell_type": "code",
   "execution_count": 259,
   "metadata": {},
   "outputs": [
    {
     "name": "stdout",
     "output_type": "stream",
     "text": [
      "Menu contains 5 items\n",
      "Use search tree to allocate 750 calories\n",
      "Menu contains 10 items\n",
      "Use search tree to allocate 750 calories\n",
      "Menu contains 15 items\n",
      "Use search tree to allocate 750 calories\n",
      "Menu contains 20 items\n",
      "Use search tree to allocate 750 calories\n",
      "Menu contains 25 items\n",
      "Use search tree to allocate 750 calories\n",
      "Menu contains 30 items\n",
      "Use search tree to allocate 750 calories\n",
      "Menu contains 35 items\n",
      "Use search tree to allocate 750 calories\n",
      "Menu contains 40 items\n",
      "Use search tree to allocate 750 calories\n",
      "Menu contains 45 items\n",
      "Use search tree to allocate 750 calories\n",
      "Menu contains 50 items\n",
      "Use search tree to allocate 750 calories\n",
      "Menu contains 512 items\n",
      "Use search tree to allocate 750 calories\n",
      "Menu contains 1024 items\n",
      "Use search tree to allocate 750 calories\n"
     ]
    }
   ],
   "source": [
    "def fastMaxVal(toConsider, avail, memo = {}):\n",
    "    \"\"\"Assumes toConsider a list of subjects, avail a weight\n",
    "         memo supplied by recursive calls\n",
    "       Returns a tuple of the total value of a solution to the\n",
    "         0/1 knapsack problem and the subjects of that solution\"\"\"\n",
    "    if (len(toConsider), avail) in memo:\n",
    "        result = memo[(len(toConsider), avail)]\n",
    "    elif toConsider == [] or avail == 0:\n",
    "        result = (0, ())\n",
    "    elif toConsider[0].getCost() > avail:\n",
    "        #Explore right branch only\n",
    "        result = fastMaxVal(toConsider[1:], avail, memo)\n",
    "    else:\n",
    "        nextItem = toConsider[0]\n",
    "        #Explore left branch\n",
    "        withVal, withToTake =\\\n",
    "                 fastMaxVal(toConsider[1:],\n",
    "                            avail - nextItem.getCost(), memo)\n",
    "        withVal += nextItem.getValue()\n",
    "        #Explore right branch\n",
    "        withoutVal, withoutToTake = fastMaxVal(toConsider[1:],\n",
    "                                                avail, memo)\n",
    "        #Choose better branch\n",
    "        if withVal > withoutVal:\n",
    "            result = (withVal, withToTake + (nextItem,))\n",
    "        else:\n",
    "            result = (withoutVal, withoutToTake)\n",
    "    memo[(len(toConsider), avail)] = result\n",
    "    return result\n",
    "\n",
    "def testMaxVal(foods, maxUnits, algorithm, printItems = True):\n",
    "    #algorithm - a new parameter for using different methods\n",
    "    # to solve the knapsack problem\n",
    "    print('Menu contains', len(foods), 'items')\n",
    "    print('Use search tree to allocate', maxUnits,\n",
    "          'calories')\n",
    "    val, taken = algorithm(foods, maxUnits)\n",
    "    if printItems:\n",
    "        print('Total value of items taken =', val)\n",
    "        for item in taken:\n",
    "            print('   ', item)\n",
    "for numItems in (5, 10, 15, 20, 25, 30, 35, 40, 45, 50, 512, 1024):\n",
    "    items = buildLargeMenu(numItems, 90, 250)\n",
    "    testMaxVal(items, 750, fastMaxVal, False)\n",
    "                \n",
    "#Change code to keep track of number of calls\n",
    "def countingFastMaxVal(toConsider, avail, memo = {}):\n",
    "    \"\"\"Assumes toConsider a list of subjects, avail a weight\n",
    "         memo supplied by recursive calls\n",
    "       Returns a tuple of the total value of a solution to the\n",
    "         0/1 knapsack problem and the subjects of that solution\"\"\"\n",
    "    global numCalls\n",
    "    numCalls += 1\n",
    "    \n",
    "    if (len(toConsider), avail) in memo:\n",
    "        result = memo[(len(toConsider), avail)]\n",
    "    elif toConsider == [] or avail == 0:\n",
    "        result = (0, ())\n",
    "    elif toConsider[0].getCost() > avail:\n",
    "        #Explore right branch only\n",
    "        result = countingFastMaxVal(toConsider[1:], avail, memo)\n",
    "    else:\n",
    "        nextItem = toConsider[0]\n",
    "        #Explore left branch\n",
    "        withVal, withToTake =\\\n",
    "                 countingFastMaxVal(toConsider[1:],\n",
    "                            avail - nextItem.getCost(), memo)\n",
    "        withVal += nextItem.getValue()\n",
    "        #Explore right branch\n",
    "        withoutVal, withoutToTake = countingFastMaxVal(toConsider[1:],\n",
    "                                                avail, memo)\n",
    "        #Choose better branch\n",
    "        if withVal > withoutVal:\n",
    "            result = (withVal, withToTake + (nextItem,))\n",
    "        else:\n",
    "            result = (withoutVal, withoutToTake)\n",
    "    memo[(len(toConsider), avail)] = result\n",
    "    return result\n"
   ]
  },
  {
   "cell_type": "markdown",
   "metadata": {},
   "source": [
    "**Notes**\n",
    "\n",
    "Every time a recursive call is made in Python, the function making the call is saved on the call stack\n",
    "\n",
    "The runtime system places a limit on the depth of recursion \n",
    "\n",
    "**How to see the limit on the depth of recursion**"
   ]
  },
  {
   "cell_type": "code",
   "execution_count": 260,
   "metadata": {},
   "outputs": [],
   "source": [
    "import sys"
   ]
  },
  {
   "cell_type": "code",
   "execution_count": 261,
   "metadata": {},
   "outputs": [
    {
     "data": {
      "text/plain": [
       "3000"
      ]
     },
     "execution_count": 261,
     "metadata": {},
     "output_type": "execute_result"
    }
   ],
   "source": [
    "sys.getrecursionlimit()\n",
    "#sys.setrecursionlimit(5000) #change recursion limit to 5000  "
   ]
  },
  {
   "cell_type": "markdown",
   "metadata": {},
   "source": [
    "### Performance\n",
    "\n",
    "![Performance of using pure recursion to solve Knapsack Problem](../img/performanceMemoizationKnapsack.png)\n",
    "\n",
    "For the purely recursive algorithm, the number of calls is roughly the 2nd column ($2^N$, where N is len(item)).\n",
    "\n",
    "For the memoization algorithm, the number of calls is shown in the 3rd column\n",
    "\n",
    "### How can this be?\n",
    "\n",
    "* Problem is exponential\n",
    "* Is dynamic programming a miracle?\n",
    "    * No, but computational complexity can be subtle\n",
    "    * Can solve optimization problems where the size of the space of possible solutions is exponentially large\n",
    "    * Can find a solution to an optimization problem that's guaranteed to be optimal\n",
    "    \n",
    "* Runtime of ```<fastMaxVal>``` is limited by the number of distinct pairs ```<toConsider, avail>``` -> the number of different keys possible to have from the menu\n",
    "    * #possible_values = len(toConsider) <= len(items)\n",
    "    * #avail <= # distinct weight combinations (totalling up to the available weight) => Covered in more details in chapter 13 of the textbook\n",
    "    * Pseudo polynomial algorithms - most of the time run in polynomial time (fairly low order polynomial), but in the worst case, when there are not a lot of overlapping subproblems, it reverts back to exponential time\n",
    "    "
   ]
  },
  {
   "cell_type": "code",
   "execution_count": null,
   "metadata": {},
   "outputs": [],
   "source": [
    "for numItems in (2, 4, 8, 16, 32, 64, 128, 256, 512, 1024):\n",
    "    numCalls = 0\n",
    "    items = buildLargeMenu(numItems, 90, 250)\n",
    "    testMaxVal(items, 750, countingFastMaxVal, False)\n",
    "    print('Number of calls =', numCalls)"
   ]
  },
  {
   "cell_type": "markdown",
   "metadata": {},
   "source": [
    "#### Another example\n",
    "Problem: I need to go up a flight of  N  stairs. I can either go up 1 or 2 steps every time. How many different ways are there for me to traverse these steps? For example:\n",
    "```\n",
    "3 steps -> could be 1,1,1 or 1,2 or 2,1\n",
    "4 steps -> could be 1,1,1,1 or 1,1,2 or 1,2,1 or 2,1,1 or 2,2\n",
    "5 steps -> could be 1,1,1,1,1 or 1,1,1,2 or 1,1,2,1 or 1,2,1,1 or 2,1,1,1 or 2,2,1 or 1,2,2 or 2,1,2\n",
    "```\n",
    "\n",
    "**Optimal structure**\n",
    "A optimal solution in this case is the number of possible ways of traversing k steps -- it’s a somewhat trivial sense of “optimal”, with one good (correct) answer and infinite bad (incorrect) answers. But we can indeed figure out the solution for k+1 or k+2 steps using the solution to k.\n",
    "\n",
    "**Overlapping subproblems**\n",
    "Say there are 8 steps. The solution for 5 steps is required at least three times, as you can do [1,1,1] or [1,2] or [2,1] to reduce the solution to 5 steps."
   ]
  },
  {
   "cell_type": "markdown",
   "metadata": {},
   "source": [
    "# Summary\n",
    "\n",
    "Many problems of practical importance can be solved by formulas of optimization problems in these steps:\n",
    "\n",
    "* Check if **greedy algorithms** provide adequate solutions (though often not optimal)\n",
    "* If an optimal solution is in exponential order, try dynamic programming - good for **optimal substructures** and **overlapping subproblems**\n",
    "     * This solution always correct\n",
    "     * Only fast under the right circumstances"
   ]
  }
 ],
 "metadata": {
  "kernelspec": {
   "display_name": "MITx6002xPractice",
   "language": "python",
   "name": "mitx6002xpractice"
  },
  "language_info": {
   "codemirror_mode": {
    "name": "ipython",
    "version": 3
   },
   "file_extension": ".py",
   "mimetype": "text/x-python",
   "name": "python",
   "nbconvert_exporter": "python",
   "pygments_lexer": "ipython3",
   "version": "3.5.5"
  }
 },
 "nbformat": 4,
 "nbformat_minor": 2
}
